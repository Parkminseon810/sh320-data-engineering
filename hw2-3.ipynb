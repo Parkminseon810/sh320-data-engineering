{
 "cells": [
  {
   "cell_type": "code",
   "execution_count": 25,
   "id": "9e683f07",
   "metadata": {},
   "outputs": [],
   "source": [
    "hairstyles = [\"bouffant\", \"pixie\", \"dreadlocks\", \"crew\", \"bowl\", \"bob\", \"mohawk\", \"flattop\"]\n",
    "prices = [30, 25, 40, 20, 20, 35, 50, 35]\n",
    "last_week = [2,3,5,8,4,4,6,2]"
   ]
  },
  {
   "cell_type": "code",
   "execution_count": 26,
   "id": "50ab1629",
   "metadata": {},
   "outputs": [],
   "source": [
    "total_price = 0"
   ]
  },
  {
   "cell_type": "code",
   "execution_count": 27,
   "id": "2ea8ca8a",
   "metadata": {},
   "outputs": [
    {
     "data": {
      "text/plain": [
       "255"
      ]
     },
     "execution_count": 27,
     "metadata": {},
     "output_type": "execute_result"
    }
   ],
   "source": [
    "for price in prices:\n",
    "    total_price += price\n",
    "    \n",
    "total_price\n"
   ]
  },
  {
   "cell_type": "code",
   "execution_count": 28,
   "id": "0cb9a2d4",
   "metadata": {},
   "outputs": [
    {
     "data": {
      "text/plain": [
       "31.875"
      ]
     },
     "execution_count": 28,
     "metadata": {},
     "output_type": "execute_result"
    }
   ],
   "source": [
    "average_price = total_price / len(prices)\n",
    "average_price"
   ]
  },
  {
   "cell_type": "code",
   "execution_count": 47,
   "id": "e6b746d4",
   "metadata": {},
   "outputs": [
    {
     "data": {
      "text/plain": [
       "[25, 20, 35, 15, 15, 30, 45, 30]"
      ]
     },
     "execution_count": 47,
     "metadata": {},
     "output_type": "execute_result"
    }
   ],
   "source": [
    "new_prices = [price - 5 for price in prices]\n",
    "new_prices"
   ]
  },
  {
   "cell_type": "code",
   "execution_count": 48,
   "id": "1f1567b6",
   "metadata": {},
   "outputs": [],
   "source": [
    "total_revenue = 0"
   ]
  },
  {
   "cell_type": "code",
   "execution_count": 49,
   "id": "259cf5ef",
   "metadata": {},
   "outputs": [
    {
     "name": "stdout",
     "output_type": "stream",
     "text": [
      "0\n",
      "1\n",
      "2\n",
      "3\n",
      "4\n",
      "5\n",
      "6\n",
      "7\n"
     ]
    }
   ],
   "source": [
    "for i in range(len(hairstyles)): #range() 일정 범위의 연속된 정수 생성\n",
    "    print(i)"
   ]
  },
  {
   "cell_type": "code",
   "execution_count": 50,
   "id": "9bdde8b4",
   "metadata": {},
   "outputs": [
    {
     "data": {
      "text/plain": [
       "1085"
      ]
     },
     "execution_count": 50,
     "metadata": {},
     "output_type": "execute_result"
    }
   ],
   "source": [
    "for i in range(len(hairstyles)):\n",
    "    total_revenue += prices[i] * last_week[i]\n",
    "total_revenue"
   ]
  },
  {
   "cell_type": "code",
   "execution_count": 51,
   "id": "0eea2ca9",
   "metadata": {},
   "outputs": [
    {
     "data": {
      "text/plain": [
       "155.0"
      ]
     },
     "execution_count": 51,
     "metadata": {},
     "output_type": "execute_result"
    }
   ],
   "source": [
    "average_daily_revenue = total_revenue / 7\n",
    "average_daily_revenue"
   ]
  },
  {
   "cell_type": "code",
   "execution_count": 52,
   "id": "556a7da4",
   "metadata": {},
   "outputs": [],
   "source": [
    "cuts_under_30 = []\n"
   ]
  },
  {
   "cell_type": "code",
   "execution_count": 54,
   "id": "ada15e59",
   "metadata": {},
   "outputs": [
    {
     "data": {
      "text/plain": [
       "['bouffant', 'pixie', 'crew', 'bowl']"
      ]
     },
     "execution_count": 54,
     "metadata": {},
     "output_type": "execute_result"
    }
   ],
   "source": [
    "cuts_under_30 = [hairstyles[i] for i in range(len(new_prices)) \n",
    "                 if new_prices[i] < 30]\n",
    "cuts_under_30"
   ]
  },
  {
   "cell_type": "code",
   "execution_count": null,
   "id": "ac652fa4",
   "metadata": {},
   "outputs": [],
   "source": []
  }
 ],
 "metadata": {
  "kernelspec": {
   "display_name": "base",
   "language": "python",
   "name": "python3"
  },
  "language_info": {
   "codemirror_mode": {
    "name": "ipython",
    "version": 3
   },
   "file_extension": ".py",
   "mimetype": "text/x-python",
   "name": "python",
   "nbconvert_exporter": "python",
   "pygments_lexer": "ipython3",
   "version": "3.12.7"
  }
 },
 "nbformat": 4,
 "nbformat_minor": 5
}
