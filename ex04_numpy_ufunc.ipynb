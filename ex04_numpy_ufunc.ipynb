{
 "cells": [
  {
   "cell_type": "markdown",
   "metadata": {},
   "source": [
    "## <strong>4. NumPy: Universal Functions (UFunc)</strong>"
   ]
  },
  {
   "cell_type": "code",
   "execution_count": 1,
   "metadata": {},
   "outputs": [],
   "source": [
    "import numpy as np"
   ]
  },
  {
   "cell_type": "code",
   "execution_count": 2,
   "metadata": {},
   "outputs": [
    {
     "name": "stdout",
     "output_type": "stream",
     "text": [
      "[4 9 7 5 1]\n",
      "[0.25       0.11111111 0.14285714 0.2        1.        ]\n"
     ]
    }
   ],
   "source": [
    "# 역수 계산 함수\n",
    "def compute_reciprocals(values):\n",
    "    output = np.empty(len(values))\n",
    "    for i in range(len(values)):\n",
    "        output[i] = 1.0 / values[i]\n",
    "    return output\n",
    "\n",
    "# 함수 테스트\n",
    "values = np.random.randint(1, 10, size=5)\n",
    "print(values)\n",
    "print(compute_reciprocals(values))"
   ]
  },
  {
   "cell_type": "markdown",
   "metadata": {},
   "source": [
    "#### <strong>역수 계산: Python loop vs NumPy ufuncs</strong>\n",
    "+ ```%timeit```: 셀 단위 코드 실행 시간을 측정하는 매직 함수"
   ]
  },
  {
   "cell_type": "code",
   "execution_count": 11,
   "metadata": {},
   "outputs": [
    {
     "name": "stdout",
     "output_type": "stream",
     "text": [
      "[74 24 50 ... 55 87 32]\n"
     ]
    }
   ],
   "source": [
    "# [+] 백만 개 크기의 난수 배열 생성: 정수, 값 범위 [1, 100)\n",
    "big_array = np.random.randint(1,101, size = 1000000) #100까지 범위를 지정하려면 101까지로 설정해야함\n",
    "print(big_array) "
   ]
  },
  {
   "cell_type": "code",
   "execution_count": null,
   "metadata": {},
   "outputs": [
    {
     "name": "stdout",
     "output_type": "stream",
     "text": [
      "6.39 s ± 1.03 s per loop (mean ± std. dev. of 7 runs, 1 loop each)\n"
     ]
    }
   ],
   "source": [
    "%%timeit #주피터 노트북에서만 지원하는 매직함수 , 느림\n",
    "\n",
    "# [+] Python loop를 통한 역수 계산 \n",
    "compute_reciprocals(big_array)"
   ]
  },
  {
   "cell_type": "code",
   "execution_count": 13,
   "metadata": {},
   "outputs": [
    {
     "name": "stdout",
     "output_type": "stream",
     "text": [
      "9.33 ms ± 293 μs per loop (mean ± std. dev. of 7 runs, 100 loops each)\n"
     ]
    }
   ],
   "source": [
    "%%timeit\n",
    "\n",
    "# [+] NumPy ufunc을 통한 벡터화된 역수 계산\n",
    "1 / big_array #넘파이를 활용한 역수 구하기, 위에보다 훨씬 빠른 계산"
   ]
  },
  {
   "cell_type": "markdown",
   "metadata": {},
   "source": [
    "#### <strong>유니버설 함수들</strong>"
   ]
  },
  {
   "cell_type": "code",
   "execution_count": 14,
   "metadata": {},
   "outputs": [
    {
     "name": "stdout",
     "output_type": "stream",
     "text": [
      "[5 8 9 5 0] [0 1 7 6 9]\n"
     ]
    }
   ],
   "source": [
    "# 난수 배열 2개 생성\n",
    "np.random.seed(1)\n",
    "arr1 = np.random.randint(10, size=5)\n",
    "arr2 = np.random.randint(10, size=5)\n",
    "\n",
    "print(arr1, arr2)"
   ]
  },
  {
   "cell_type": "code",
   "execution_count": 16,
   "metadata": {},
   "outputs": [
    {
     "name": "stdout",
     "output_type": "stream",
     "text": [
      "[ 1  4  5  1 -4]\n"
     ]
    }
   ],
   "source": [
    "# 배열-스칼라 연산\n",
    "arr1 = arr1 - 2 #배열 값에서 -2씩 연산\n",
    "print(arr1)"
   ]
  },
  {
   "cell_type": "code",
   "execution_count": 18,
   "metadata": {},
   "outputs": [
    {
     "name": "stdout",
     "output_type": "stream",
     "text": [
      "[ 1  5 12  7  5]\n"
     ]
    }
   ],
   "source": [
    "# 배열-배열 연산\n",
    "arr3 = arr1 + arr2 #두 개의 배열 값을 원소 단위로 더함\n",
    "print(arr3)"
   ]
  },
  {
   "cell_type": "code",
   "execution_count": null,
   "metadata": {},
   "outputs": [
    {
     "name": "stdout",
     "output_type": "stream",
     "text": [
      "[[2 4 5 2 4]\n",
      " [2 4 7 7 9]\n",
      " [1 7 0 6 9]]\n",
      "[[ 4 16 25  4 16]\n",
      " [ 4 16 49 49 81]\n",
      " [ 1 49  0 36 81]]\n"
     ]
    }
   ],
   "source": [
    "# 다차원 배열 연산: 2차원 배열 ** 스칼라\n",
    "arr4 = np.random.randint(10, size=(3, 5))\n",
    "print(arr4)\n",
    "\n",
    "arr5 = arr4 ** 2 #배열에 제곱 #벡터화 되어있기 때문에 파이썬 루프(for문)으로 구성된 것보다 효율적이고 빠름\n",
    "#파이썬 반복문을 작성할때 벡터로 쓸 수 있는지 확인하고 넘파이를 쓰면 더 효율적\n",
    "print(arr5)"
   ]
  },
  {
   "cell_type": "code",
   "execution_count": 22,
   "metadata": {},
   "outputs": [
    {
     "name": "stdout",
     "output_type": "stream",
     "text": [
      "x     = [0 1 2 3]\n",
      "x + 5 = [5 6 7 8]\n",
      "x - 5 = [-5 -4 -3 -2]\n",
      "x * 2 = [0 2 4 6]\n",
      "x / 2 = [0.  0.5 1.  1.5]\n",
      "x ** 2 = [0 1 4 9]\n",
      "x + 5 = [5 6 7 8]\n",
      "x - 5 = [-5 -4 -3 -2]\n",
      "x * 2 = [0 2 4 6]\n",
      "x / 2 = [0.  0.5 1.  1.5]\n",
      "x ** 2 = [0 1 4 9]\n"
     ]
    }
   ],
   "source": [
    "\"\"\"\n",
    "    UFuncs: 산술 연산\n",
    "\"\"\"\n",
    "\n",
    "# 기본 산술 연산\n",
    "x = np.arange(4)\n",
    "print(\"x     =\", x)\n",
    "print(\"x + 5 =\", x + 5)\n",
    "print(\"x - 5 =\", x - 5)\n",
    "print(\"x * 2 =\", x * 2)\n",
    "print(\"x / 2 =\", x / 2)\n",
    "print(\"x ** 2 =\", x ** 2)\n",
    "\n",
    "# [+] 산술 연산에 대응하는 유니버설 함수\n",
    "print(\"x + 5 =\", np.add(x,5))\n",
    "print(\"x - 5 =\", np.subtract(x,5))\n",
    "print(\"x * 2 =\", np.multiply(x,2))\n",
    "print(\"x / 2 =\", np.divide(x,2))\n",
    "print(\"x ** 2 =\", np.power(x,2))\n"
   ]
  },
  {
   "cell_type": "code",
   "execution_count": 24,
   "metadata": {},
   "outputs": [
    {
     "data": {
      "text/plain": [
       "array([2, 1, 0, 1, 2])"
      ]
     },
     "execution_count": 24,
     "metadata": {},
     "output_type": "execute_result"
    }
   ],
   "source": [
    "\"\"\"\n",
    "    UFuncs: 절댓값 계산\n",
    "\"\"\"\n",
    "\n",
    "# [+] 절댓값 함수\n",
    "x = np.array([-2, -1, 0, 1, 2])\n",
    "np.abs(x) #abs 벡터화 된 절댓값 구하는 함수"
   ]
  },
  {
   "cell_type": "code",
   "execution_count": 26,
   "metadata": {},
   "outputs": [
    {
     "data": {
      "text/plain": [
       "array([  0.,  25.,  50.,  75., 100.])"
      ]
     },
     "execution_count": 26,
     "metadata": {},
     "output_type": "execute_result"
    }
   ],
   "source": [
    "\"\"\"\n",
    "    np.linspace(start, stop, num): 선형 간격 벡터 생성\n",
    "        - start: 벡터의 시작 값\n",
    "        - end: 벡터의 종료 값\n",
    "        - num: 생성할 값의 개수\n",
    "\"\"\"\n",
    "\n",
    "# [+][0, 100]의 범위를 가지며, 균일한 간격의 5개의 값들로 구성되는 벡터를 생성\n",
    "x = np.linspace(0, 100, 5)\n",
    "x"
   ]
  },
  {
   "cell_type": "code",
   "execution_count": 32,
   "metadata": {},
   "outputs": [
    {
     "data": {
      "text/plain": [
       "array([  0.,  10.,  20.,  30.,  40.,  50.,  60.,  70.,  80.,  90., 100.])"
      ]
     },
     "execution_count": 32,
     "metadata": {},
     "output_type": "execute_result"
    }
   ],
   "source": [
    "# [+] [0, 100]의 범위를 가지며, [0, 10, 20, 30, ..., 100]와\n",
    "# 같은 값들로 구성되는 벡터를 생성\n",
    "x = np.linspace(0, 100, 11)\n",
    "x"
   ]
  },
  {
   "cell_type": "code",
   "execution_count": 33,
   "metadata": {},
   "outputs": [
    {
     "name": "stdout",
     "output_type": "stream",
     "text": [
      "[0.         1.57079633 3.14159265]\n",
      "[0.0000000e+00 1.0000000e+00 1.2246468e-16]\n",
      "[ 1.000000e+00  6.123234e-17 -1.000000e+00]\n",
      "[ 0.00000000e+00  1.63312394e+16 -1.22464680e-16]\n"
     ]
    }
   ],
   "source": [
    "# 삼각함수(trigonometric functions)\n",
    "theta = np.linspace(0, np.pi, 3)\n",
    "\n",
    "print(theta)\n",
    "print(np.sin(theta))\n",
    "print(np.cos(theta))\n",
    "print(np.tan(theta))"
   ]
  },
  {
   "cell_type": "code",
   "execution_count": 37,
   "metadata": {},
   "outputs": [
    {
     "data": {
      "text/plain": [
       "array([1, 2, 3, 4])"
      ]
     },
     "execution_count": 37,
     "metadata": {},
     "output_type": "execute_result"
    }
   ],
   "source": [
    "\"\"\"\n",
    "    집계 함수: reduce() #reduce 함수 배열의 모든 값을 집계해서 값 출력(한번에 계산)\n",
    "\"\"\"\n",
    "\n",
    "# 배열 생성\n",
    "x = np.arange(1, 5)\n",
    "x"
   ]
  },
  {
   "cell_type": "code",
   "execution_count": 38,
   "metadata": {},
   "outputs": [
    {
     "data": {
      "text/plain": [
       "10"
      ]
     },
     "execution_count": 38,
     "metadata": {},
     "output_type": "execute_result"
    }
   ],
   "source": [
    "# [+] 덧셈 연산으로 집계\n",
    "aggr = np.add.reduce(x)\n",
    "aggr"
   ]
  },
  {
   "cell_type": "code",
   "execution_count": 36,
   "metadata": {},
   "outputs": [
    {
     "data": {
      "text/plain": [
       "24"
      ]
     },
     "execution_count": 36,
     "metadata": {},
     "output_type": "execute_result"
    }
   ],
   "source": [
    "# [+] 곱셈 연산으로 집계\n",
    "aggr = np.multiply.reduce(x)\n",
    "aggr"
   ]
  },
  {
   "cell_type": "code",
   "execution_count": 40,
   "metadata": {},
   "outputs": [
    {
     "data": {
      "text/plain": [
       "array([ 1,  3,  6, 10])"
      ]
     },
     "execution_count": 40,
     "metadata": {},
     "output_type": "execute_result"
    }
   ],
   "source": [
    "\"\"\"\n",
    "    집계 함수: accumulate() #계산의 중간 결과들을 배열로 저장한다.(중간 과정을 확인하고자 할 때 사용)\n",
    "\"\"\"\n",
    "\n",
    "# [+] 덧셈 연산으로 집계\n",
    "accum = np.add.accumulate(x)\n",
    "accum"
   ]
  },
  {
   "cell_type": "code",
   "execution_count": 41,
   "metadata": {},
   "outputs": [
    {
     "data": {
      "text/plain": [
       "array([ 1,  2,  6, 24])"
      ]
     },
     "execution_count": 41,
     "metadata": {},
     "output_type": "execute_result"
    }
   ],
   "source": [
    "# [+] 곱셈 연산으로 집계\n",
    "accum = np.multiply.accumulate(x)\n",
    "accum"
   ]
  },
  {
   "cell_type": "code",
   "execution_count": 46,
   "metadata": {},
   "outputs": [
    {
     "name": "stdout",
     "output_type": "stream",
     "text": [
      "[0.5507979  0.70814782 0.29090474 ... 0.93033748 0.80429816 0.47400579]\n",
      "sum = 500422.19897015305\n"
     ]
    }
   ],
   "source": [
    "# 집계 함수: sum()\n",
    "np.random.seed(3)\n",
    "arr = np.random.rand(1000000) # [+] 0~1 사이의 실수 형태의 난수 배열 생성\n",
    "#rand는 시작과 끝 값을 지정할 필요X,실수 형태로 지정되어 있음, rand는 인자 값 하나 넣어주면 0~1 사이 값 생성\n",
    "\n",
    "print(arr)\n",
    "print(\"sum =\", np.sum(arr))"
   ]
  },
  {
   "cell_type": "code",
   "execution_count": 47,
   "metadata": {},
   "outputs": [
    {
     "name": "stdout",
     "output_type": "stream",
     "text": [
      "259 ms ± 3.83 ms per loop (mean ± std. dev. of 7 runs, 1 loop each)\n"
     ]
    }
   ],
   "source": [
    "# sum(): Python 내장함수\n",
    "%timeit sum(arr)"
   ]
  },
  {
   "cell_type": "code",
   "execution_count": 48,
   "metadata": {},
   "outputs": [
    {
     "name": "stdout",
     "output_type": "stream",
     "text": [
      "2.7 ms ± 145 μs per loop (mean ± std. dev. of 7 runs, 100 loops each)\n"
     ]
    }
   ],
   "source": [
    "# np.sum()\n",
    "%timeit np.sum(arr) # 1000µs = 1ms #파이썬 내장 함수 sum()보다 연산이 훨씬 빠름\n",
    "#즉 큰 데이터를 처리할 땐 Numpy를 써라, 성능 자체가 훨씬 좋음 "
   ]
  },
  {
   "cell_type": "code",
   "execution_count": 65,
   "metadata": {},
   "outputs": [
    {
     "name": "stdout",
     "output_type": "stream",
     "text": [
      "max = 0.9999996367889004\n",
      "min = 1.5496004267534502e-06\n",
      "mean = 0.500422198970153\n",
      "median = 0.5005659265960778\n",
      "percentile = 0.9001765340710965\n",
      "variance = 0.08331685347394581\n",
      "standard deviation = 0.28864658922971154\n",
      "index of maximum value = 339543\n",
      "index of minimum value = 980213\n",
      "Is there any number greater than 1? = False\n",
      "Is every number greater than 0? = True\n"
     ]
    }
   ],
   "source": [
    "# [+] 그 외의 집계함수\n",
    "print(\"max =\", np.max(arr))\n",
    "print(\"min =\", np.min(arr))\n",
    "print(\"mean =\", np.mean(arr)) #평균화\n",
    "print(\"median =\", np.median(arr)) #중앙값\n",
    "print(\"percentile =\", np.percentile(arr, 90))\n",
    "print(\"variance =\", np.var(arr)) #분산\n",
    "print(\"standard deviation =\", np.std(arr)) #표준편차\n",
    "print(\"index of maximum value =\", np.argmax(arr)) #인덱스 최대값\n",
    "print(\"index of minimum value =\", np.argmin(arr)) #인덱스 최소값\n",
    "print(\"Is there any number greater than 1? =\", np.any(arr > 1)) #참을 만족하는 원소가 있는지 0~1 값만 존재하기에 False\n",
    "print(\"Is every number greater than 0? =\", np.all(arr > 0)) #배열 안에 모든 원소들이 이 조건을 만족하는지"
   ]
  },
  {
   "cell_type": "code",
   "execution_count": 66,
   "metadata": {},
   "outputs": [
    {
     "data": {
      "text/plain": [
       "array([[5, 0, 3, 3],\n",
       "       [7, 9, 3, 5],\n",
       "       [2, 4, 7, 6]])"
      ]
     },
     "execution_count": 66,
     "metadata": {},
     "output_type": "execute_result"
    }
   ],
   "source": [
    "\"\"\"다차원 집계\"\"\"\n",
    "\n",
    "# 2차원 난수 배열 생성\n",
    "np.random.seed(0)\n",
    "arr = np.random.randint(10, size=(3, 4))\n",
    "arr"
   ]
  },
  {
   "cell_type": "code",
   "execution_count": null,
   "metadata": {},
   "outputs": [
    {
     "data": {
      "text/plain": [
       "54"
      ]
     },
     "execution_count": 67,
     "metadata": {},
     "output_type": "execute_result"
    }
   ],
   "source": [
    "np.sum(arr) #모든 arr 값 더함"
   ]
  },
  {
   "cell_type": "code",
   "execution_count": 72,
   "metadata": {},
   "outputs": [
    {
     "data": {
      "text/plain": [
       "array([14, 13, 13, 14])"
      ]
     },
     "execution_count": 72,
     "metadata": {},
     "output_type": "execute_result"
    }
   ],
   "source": [
    "# [+] 행 방향으로 집계 (row sum)\n",
    "np.sum(arr, axis=0) #행은 axis=0"
   ]
  },
  {
   "cell_type": "code",
   "execution_count": 73,
   "metadata": {},
   "outputs": [
    {
     "data": {
      "text/plain": [
       "array([11, 24, 19])"
      ]
     },
     "execution_count": 73,
     "metadata": {},
     "output_type": "execute_result"
    }
   ],
   "source": [
    "# [+] 열 방향으로 집계 (column sum)\n",
    "np.sum(arr, axis=1) #열은 axis=1"
   ]
  },
  {
   "cell_type": "code",
   "execution_count": null,
   "metadata": {},
   "outputs": [],
   "source": []
  }
 ],
 "metadata": {
  "kernelspec": {
   "display_name": "base",
   "language": "python",
   "name": "python3"
  },
  "language_info": {
   "codemirror_mode": {
    "name": "ipython",
    "version": 3
   },
   "file_extension": ".py",
   "mimetype": "text/x-python",
   "name": "python",
   "nbconvert_exporter": "python",
   "pygments_lexer": "ipython3",
   "version": "3.12.7"
  }
 },
 "nbformat": 4,
 "nbformat_minor": 4
}
