{
 "cells": [
  {
   "cell_type": "code",
   "execution_count": 54,
   "id": "f22c81e0",
   "metadata": {},
   "outputs": [
    {
     "data": {
      "text/plain": [
       "['physics', 'calculus', 'poetry', 'history']"
      ]
     },
     "execution_count": 54,
     "metadata": {},
     "output_type": "execute_result"
    }
   ],
   "source": [
    "subjects = [\"physics\", \"calculus\", \"poetry\", \"history\"]\n",
    "subjects"
   ]
  },
  {
   "cell_type": "code",
   "execution_count": 55,
   "id": "47063440",
   "metadata": {},
   "outputs": [
    {
     "data": {
      "text/plain": [
       "[98, 97, 85, 88]"
      ]
     },
     "execution_count": 55,
     "metadata": {},
     "output_type": "execute_result"
    }
   ],
   "source": [
    "grades = [98, 97, 85, 88]\n",
    "grades"
   ]
  },
  {
   "cell_type": "code",
   "execution_count": 86,
   "id": "4370bde9",
   "metadata": {},
   "outputs": [
    {
     "data": {
      "text/plain": [
       "[['physics', 98], ['calculus', 97], ['poetry', 85], ['history', 88]]"
      ]
     },
     "execution_count": 86,
     "metadata": {},
     "output_type": "execute_result"
    }
   ],
   "source": [
    "gradebook = [\n",
    "            [\"physics\", 98],\n",
    "            [\"calculus\", 97],\n",
    "            [\"poetry\", 85],\n",
    "            [\"history\", 88]\n",
    "        ]\n",
    "\n",
    "gradebook\n"
   ]
  },
  {
   "cell_type": "code",
   "execution_count": 87,
   "id": "736ad3c0",
   "metadata": {},
   "outputs": [
    {
     "data": {
      "text/plain": [
       "[['physics', 98],\n",
       " ['calculus', 97],\n",
       " ['poetry', 85],\n",
       " ['history', 88],\n",
       " ['computer science', 100]]"
      ]
     },
     "execution_count": 87,
     "metadata": {},
     "output_type": "execute_result"
    }
   ],
   "source": [
    "gradebook.append([\"computer science\", 100])\n",
    "gradebook"
   ]
  },
  {
   "cell_type": "code",
   "execution_count": 88,
   "id": "4219bf94",
   "metadata": {},
   "outputs": [
    {
     "data": {
      "text/plain": [
       "[['physics', 98],\n",
       " ['calculus', 97],\n",
       " ['poetry', 85],\n",
       " ['history', 88],\n",
       " ['computer science', 100],\n",
       " ['visual arts', 93]]"
      ]
     },
     "execution_count": 88,
     "metadata": {},
     "output_type": "execute_result"
    }
   ],
   "source": [
    "gradebook.append([\"visual arts\", 93])\n",
    "gradebook"
   ]
  },
  {
   "cell_type": "code",
   "execution_count": 89,
   "id": "bbb8240c",
   "metadata": {},
   "outputs": [
    {
     "data": {
      "text/plain": [
       "[['physics', 98],\n",
       " ['calculus', 97],\n",
       " ['poetry', 85],\n",
       " ['history', 88],\n",
       " ['computer science', 100],\n",
       " ['visual arts', 97]]"
      ]
     },
     "execution_count": 89,
     "metadata": {},
     "output_type": "execute_result"
    }
   ],
   "source": [
    "gradebook[5][1] = 97\n",
    "gradebook"
   ]
  },
  {
   "cell_type": "code",
   "execution_count": 90,
   "id": "90130034",
   "metadata": {},
   "outputs": [
    {
     "data": {
      "text/plain": [
       "[['physics', 98],\n",
       " ['calculus', 97],\n",
       " ['history', 88],\n",
       " ['computer science', 100],\n",
       " ['visual arts', 97]]"
      ]
     },
     "execution_count": 90,
     "metadata": {},
     "output_type": "execute_result"
    }
   ],
   "source": [
    "gradebook.remove([\"poetry\", 85])\n",
    "gradebook"
   ]
  },
  {
   "cell_type": "code",
   "execution_count": 91,
   "id": "ec271aaa",
   "metadata": {},
   "outputs": [
    {
     "data": {
      "text/plain": [
       "[['physics', 98],\n",
       " ['calculus', 97],\n",
       " ['history', 88],\n",
       " ['computer science', 100],\n",
       " ['visual arts', 97],\n",
       " ['poetry', 'Pass']]"
      ]
     },
     "execution_count": 91,
     "metadata": {},
     "output_type": "execute_result"
    }
   ],
   "source": [
    "gradebook.append([\"poetry\", \"Pass\"]) \n",
    "\n",
    "gradebook"
   ]
  },
  {
   "cell_type": "code",
   "execution_count": 92,
   "id": "e36e08e8",
   "metadata": {},
   "outputs": [
    {
     "data": {
      "text/plain": [
       "[['politics', 80], ['latin', 96], ['dance', 97], ['architecture', 65]]"
      ]
     },
     "execution_count": 92,
     "metadata": {},
     "output_type": "execute_result"
    }
   ],
   "source": [
    "last_semester_gradebook = [[\"politics\", 80], [\"latin\", 96], [\"dance\", 97], [\"architecture\", 65]]\n",
    "last_semester_gradebook"
   ]
  },
  {
   "cell_type": "code",
   "execution_count": 94,
   "id": "74e4bf7d",
   "metadata": {},
   "outputs": [
    {
     "data": {
      "text/plain": [
       "[['politics', 80],\n",
       " ['latin', 96],\n",
       " ['dance', 97],\n",
       " ['architecture', 65],\n",
       " ['physics', 98],\n",
       " ['calculus', 97],\n",
       " ['history', 88],\n",
       " ['computer science', 100],\n",
       " ['visual arts', 97],\n",
       " ['poetry', 'Pass']]"
      ]
     },
     "execution_count": 94,
     "metadata": {},
     "output_type": "execute_result"
    }
   ],
   "source": [
    "full_gradebook = last_semester_gradebook + gradebook\n",
    "full_gradebook"
   ]
  },
  {
   "cell_type": "code",
   "execution_count": null,
   "id": "aadbecdd",
   "metadata": {},
   "outputs": [],
   "source": []
  }
 ],
 "metadata": {
  "kernelspec": {
   "display_name": "base",
   "language": "python",
   "name": "python3"
  },
  "language_info": {
   "codemirror_mode": {
    "name": "ipython",
    "version": 3
   },
   "file_extension": ".py",
   "mimetype": "text/x-python",
   "name": "python",
   "nbconvert_exporter": "python",
   "pygments_lexer": "ipython3",
   "version": "3.12.7"
  }
 },
 "nbformat": 4,
 "nbformat_minor": 5
}
