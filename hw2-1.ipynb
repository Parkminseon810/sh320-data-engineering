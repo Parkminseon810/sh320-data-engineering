{
 "cells": [
  {
   "cell_type": "code",
   "execution_count": 2,
   "id": "32affba5",
   "metadata": {},
   "outputs": [
    {
     "name": "stdout",
     "output_type": "stream",
     "text": [
      "Lovely_loveseat_description\n"
     ]
    }
   ],
   "source": [
    "name = \"Lovely_loveseat_description\"\n",
    "print(name)"
   ]
  },
  {
   "cell_type": "code",
   "execution_count": 20,
   "id": "d6c8ceb6",
   "metadata": {},
   "outputs": [
    {
     "data": {
      "text/plain": [
       "['Turfted polyester blend on wood', '32 x 40 x 30', 'Red', 'White']"
      ]
     },
     "execution_count": 20,
     "metadata": {},
     "output_type": "execute_result"
    }
   ],
   "source": [
    "Lovely_loveseat_description = ['Turfted polyester blend on wood', '32 x 40 x 30', 'Red', 'White']\n",
    "Lovely_loveseat_description"
   ]
  },
  {
   "cell_type": "code",
   "execution_count": 4,
   "id": "fdaef038",
   "metadata": {},
   "outputs": [
    {
     "data": {
      "text/plain": [
       "254.0"
      ]
     },
     "execution_count": 4,
     "metadata": {},
     "output_type": "execute_result"
    }
   ],
   "source": [
    "name = \"Lovely_loveseat_price\"\n",
    "Lovely_loveseat_price = 254.00\n",
    "Lovely_loveseat_price"
   ]
  },
  {
   "cell_type": "code",
   "execution_count": 5,
   "id": "d74fccf9",
   "metadata": {},
   "outputs": [
    {
     "data": {
      "text/plain": [
       "['Faux leather on birch', '29.50 x 54.75 x 28', 'Black']"
      ]
     },
     "execution_count": 5,
     "metadata": {},
     "output_type": "execute_result"
    }
   ],
   "source": [
    "name = \"stylish_settee_description\"\n",
    "stylish_settee_description = [\"Faux leather on birch\", \"29.50 x 54.75 x 28\", 'Black']\n",
    "stylish_settee_description"
   ]
  },
  {
   "cell_type": "code",
   "execution_count": 6,
   "id": "5c4b32b0",
   "metadata": {},
   "outputs": [
    {
     "data": {
      "text/plain": [
       "180.5"
      ]
     },
     "execution_count": 6,
     "metadata": {},
     "output_type": "execute_result"
    }
   ],
   "source": [
    "stylish_settee_price = 180.50\n",
    "stylish_settee_price"
   ]
  },
  {
   "cell_type": "code",
   "execution_count": 7,
   "id": "d196a22d",
   "metadata": {},
   "outputs": [
    {
     "data": {
      "text/plain": [
       "['Glass and iron', '36 inches tall', 'Brown with cream shade']"
      ]
     },
     "execution_count": 7,
     "metadata": {},
     "output_type": "execute_result"
    }
   ],
   "source": [
    "name = 'luxurious_lam_description'\n",
    "luxurious_lam_description = ['Glass and iron', '36 inches tall', 'Brown with cream shade']\n",
    "luxurious_lam_description"
   ]
  },
  {
   "cell_type": "code",
   "execution_count": 8,
   "id": "24aff007",
   "metadata": {},
   "outputs": [
    {
     "data": {
      "text/plain": [
       "52.15"
      ]
     },
     "execution_count": 8,
     "metadata": {},
     "output_type": "execute_result"
    }
   ],
   "source": [
    "luxurious_lam_price = 52.15\n",
    "luxurious_lam_price"
   ]
  },
  {
   "cell_type": "code",
   "execution_count": 9,
   "id": "cb3027b9",
   "metadata": {},
   "outputs": [
    {
     "data": {
      "text/plain": [
       "0.088"
      ]
     },
     "execution_count": 9,
     "metadata": {},
     "output_type": "execute_result"
    }
   ],
   "source": [
    "sales_tax = .088\n",
    "sales_tax"
   ]
  },
  {
   "cell_type": "code",
   "execution_count": 10,
   "id": "4c12977d",
   "metadata": {},
   "outputs": [],
   "source": [
    "customer_one_total = 0"
   ]
  },
  {
   "cell_type": "code",
   "execution_count": 11,
   "id": "56b9b876",
   "metadata": {},
   "outputs": [],
   "source": [
    "customer_one_itemization = \"\""
   ]
  },
  {
   "cell_type": "code",
   "execution_count": 12,
   "id": "e001ee6f",
   "metadata": {},
   "outputs": [
    {
     "data": {
      "text/plain": [
       "254.0"
      ]
     },
     "execution_count": 12,
     "metadata": {},
     "output_type": "execute_result"
    }
   ],
   "source": [
    "customer_one_total = Lovely_loveseat_price\n",
    "customer_one_total"
   ]
  },
  {
   "cell_type": "code",
   "execution_count": 13,
   "id": "e6fafa79",
   "metadata": {},
   "outputs": [
    {
     "data": {
      "text/plain": [
       "['Turfted polyester blend on wood', '32 x 40 x 30', 'Red', 'White']"
      ]
     },
     "execution_count": 13,
     "metadata": {},
     "output_type": "execute_result"
    }
   ],
   "source": [
    "customer_one_itemization = Lovely_loveseat_description\n",
    "customer_one_itemization"
   ]
  },
  {
   "cell_type": "code",
   "execution_count": 15,
   "id": "ac0fc90b",
   "metadata": {},
   "outputs": [
    {
     "data": {
      "text/plain": [
       "306.15"
      ]
     },
     "execution_count": 15,
     "metadata": {},
     "output_type": "execute_result"
    }
   ],
   "source": [
    "customer_one_total += luxurious_lam_price\n",
    "customer_one_total"
   ]
  },
  {
   "cell_type": "code",
   "execution_count": 21,
   "id": "94d3df19",
   "metadata": {},
   "outputs": [
    {
     "data": {
      "text/plain": [
       "[[['Turfted polyester blend on wood', '32 x 40 x 30', 'Red', 'White']],\n",
       " [['Glass and iron', '36 inches tall', 'Brown with cream shade']]]"
      ]
     },
     "execution_count": 21,
     "metadata": {},
     "output_type": "execute_result"
    }
   ],
   "source": [
    "customer_one_itemization = [[Lovely_loveseat_description], [luxurious_lam_description]]\n",
    "customer_one_itemization"
   ]
  },
  {
   "cell_type": "code",
   "execution_count": 22,
   "id": "73bc2a5e",
   "metadata": {},
   "outputs": [
    {
     "data": {
      "text/plain": [
       "26.941199999999995"
      ]
     },
     "execution_count": 22,
     "metadata": {},
     "output_type": "execute_result"
    }
   ],
   "source": [
    "customer_one_tax = \"\"\n",
    "customer_one_tax = customer_one_total * sales_tax\n",
    "customer_one_tax"
   ]
  },
  {
   "cell_type": "code",
   "execution_count": 23,
   "id": "4eefab41",
   "metadata": {},
   "outputs": [
    {
     "data": {
      "text/plain": [
       "333.09119999999996"
      ]
     },
     "execution_count": 23,
     "metadata": {},
     "output_type": "execute_result"
    }
   ],
   "source": [
    "customer_one_total += customer_one_tax\n",
    "customer_one_total"
   ]
  },
  {
   "cell_type": "code",
   "execution_count": 36,
   "id": "b650df99",
   "metadata": {},
   "outputs": [
    {
     "name": "stdout",
     "output_type": "stream",
     "text": [
      "Customer One Items: [[['Turfted polyester blend on wood', '32 x 40 x 30', 'Red', 'White']], [['Glass and iron', '36 inches tall', 'Brown with cream shade']]]\n"
     ]
    }
   ],
   "source": [
    "print(\"Customer One Items:\", customer_one_itemization)"
   ]
  },
  {
   "cell_type": "code",
   "execution_count": 26,
   "id": "d725af40",
   "metadata": {},
   "outputs": [
    {
     "data": {
      "text/plain": [
       "[[['Turfted polyester blend on wood', '32 x 40 x 30', 'Red', 'White']],\n",
       " [['Glass and iron', '36 inches tall', 'Brown with cream shade']]]"
      ]
     },
     "execution_count": 26,
     "metadata": {},
     "output_type": "execute_result"
    }
   ],
   "source": [
    "customer_one_itemization"
   ]
  },
  {
   "cell_type": "code",
   "execution_count": 35,
   "id": "4f39cb80",
   "metadata": {},
   "outputs": [
    {
     "name": "stdout",
     "output_type": "stream",
     "text": [
      "Customer One Total: 333.09119999999996\n"
     ]
    }
   ],
   "source": [
    "print(\"Customer One Total:\", customer_one_total)"
   ]
  },
  {
   "cell_type": "code",
   "execution_count": 28,
   "id": "14b5ed41",
   "metadata": {},
   "outputs": [
    {
     "data": {
      "text/plain": [
       "333.09119999999996"
      ]
     },
     "execution_count": 28,
     "metadata": {},
     "output_type": "execute_result"
    }
   ],
   "source": [
    "customer_one_total"
   ]
  },
  {
   "cell_type": "code",
   "execution_count": null,
   "id": "82d1ac4f",
   "metadata": {},
   "outputs": [],
   "source": []
  }
 ],
 "metadata": {
  "kernelspec": {
   "display_name": "base",
   "language": "python",
   "name": "python3"
  },
  "language_info": {
   "codemirror_mode": {
    "name": "ipython",
    "version": 3
   },
   "file_extension": ".py",
   "mimetype": "text/x-python",
   "name": "python",
   "nbconvert_exporter": "python",
   "pygments_lexer": "ipython3",
   "version": "3.12.7"
  }
 },
 "nbformat": 4,
 "nbformat_minor": 5
}
